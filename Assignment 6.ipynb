{
 "cells": [
  {
   "cell_type": "code",
   "execution_count": 17,
   "metadata": {},
   "outputs": [
    {
     "name": "stdout",
     "output_type": "stream",
     "text": [
      "Input vector \n",
      " [ 5  7  9 11] \n",
      "\n",
      "Output Matrix , when boolean argument is True: \n",
      " [[    1     5    25   125   625]\n",
      " [    1     7    49   343  2401]\n",
      " [    1     9    81   729  6561]\n",
      " [    1    11   121  1331 14641]] \n",
      "\n",
      "Output Matrix , when boolean argument is False: \n",
      " [[  625   125    25     5     1]\n",
      " [ 2401   343    49     7     1]\n",
      " [ 6561   729    81     9     1]\n",
      " [14641  1331   121    11     1]]\n"
     ]
    }
   ],
   "source": [
    "#Problem Statement 1: Write a function so that the columns of the output matrix are powers of the input vector. \n",
    "#The order of the powers is determined by the increasing boolean argument. Specifically, when increasing is False,\n",
    "#the i-th output column is the input vector raised element-wise to the power of N - i - 1.\n",
    "# Import numpy module to access methodsn and fucntion for array/matrix\n",
    "\n",
    "\n",
    "import numpy as num_py\n",
    "def matrix_Vandermonde(input_vector,n,bool_arg):\n",
    "    output_matrix=num_py.vander(x=input_vector,N=n,increasing=bool_arg)\n",
    "    return output_matrix\n",
    "input_vector = num_py.arange(5,13,2)   \n",
    "n = 5       \n",
    "bool_arg_T = True                     \n",
    "bool_arg_F = False                    \n",
    "\n",
    "out_matrix_True=matrix_Vandermonde(input_vector,n,bool_arg_T)\n",
    "\n",
    "out_matrix_False=matrix_Vandermonde(input_vector,n,bool_arg_F)\n",
    "\n",
    "print(\"Input vector \\n\",input_vector,\"\\n\")\n",
    "print(\"Output Matrix , when boolean argument is True: \\n\",out_matrix_True,\"\\n\")\n",
    "print(\"Output Matrix , when boolean argument is False: \\n\",out_matrix_False)\n"
   ]
  },
  {
   "cell_type": "code",
   "execution_count": 22,
   "metadata": {},
   "outputs": [
    {
     "name": "stdout",
     "output_type": "stream",
     "text": [
      "Input: M.average of values [3, 5, 7, 2, 8, 10, 11, 65, 72, 81, 99, 100, 150] are:\n",
      "\n",
      "Output:\n",
      " [  5.           4.66666667   5.66666667   6.66666667   9.66666667\n",
      "  28.66666667  49.33333333  72.66666667  84.          93.33333333\n",
      " 116.33333333]\n"
     ]
    }
   ],
   "source": [
    "# write a function to find moving average in an array over a window:\n",
    "#TEST it OVER[3,5,7,2,8, 10, 11, 65, 72, 81, 99, 100, 150] and of 3.\n",
    "\n",
    "#Solution\n",
    "\n",
    "import numpy as num_py\n",
    "def moving_average_seq(input_array,k):\n",
    "    val_array=num_py.cumsum(input_array,dtype=float)    \n",
    "    val_array[3:]=val_array[3:]-val_array[:-3]\n",
    "    return val_array[3-1:]/3\n",
    "lst =[3, 5, 7, 2, 8, 10, 11, 65, 72, 81, 99, 100, 150]\n",
    "input_array = num_py.array(lst)\n",
    "# output \n",
    "# Thus, total movieng average sequence are 13-3+1 = 11 values  ; where n=13 , k=3\n",
    "output_array=moving_average_seq(input_array,k=3)\n",
    "print(\"Input: M.average of values\",lst,\"are:\\n\")\n",
    "print(\"Output:\\n\",output_array)"
   ]
  },
  {
   "cell_type": "code",
   "execution_count": null,
   "metadata": {},
   "outputs": [],
   "source": []
  }
 ],
 "metadata": {
  "kernelspec": {
   "display_name": "Python 3",
   "language": "python",
   "name": "python3"
  },
  "language_info": {
   "codemirror_mode": {
    "name": "ipython",
    "version": 3
   },
   "file_extension": ".py",
   "mimetype": "text/x-python",
   "name": "python",
   "nbconvert_exporter": "python",
   "pygments_lexer": "ipython3",
   "version": "3.8.3"
  }
 },
 "nbformat": 4,
 "nbformat_minor": 4
}
